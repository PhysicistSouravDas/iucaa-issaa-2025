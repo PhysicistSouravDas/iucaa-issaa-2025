{
 "cells": [
  {
   "cell_type": "markdown",
   "id": "f1dbb992",
   "metadata": {},
   "source": [
    "# Bayesian statistics intro"
   ]
  },
  {
   "cell_type": "markdown",
   "id": "73b130e8",
   "metadata": {},
   "source": [
    "## Bayesian Motivation\n",
    "\n",
    "We start with **Bayes’ theorem** for parameters \\(\\theta\\) and data \\(D\\):\n",
    "\n",
    "$$\n",
    "p(\\theta \\mid D) = \\frac{p(D \\mid \\theta)\\,p(\\theta)}{p(D)}\n",
    "$$\n",
    "\n",
    "- \\(p(\\theta)\\) is the **prior**.  \n",
    "- \\(p(D \\mid \\theta)\\) is the **likelihood**.  \n",
    "- \\(p(\\theta \\mid D)\\) is the **posterior**.  \n",
    "\n",
    "The normalizing constant\n",
    "\n",
    "$$\n",
    "p(D) = \\int p(D \\mid \\theta)\\,p(\\theta)\\,d\\theta\n",
    "$$\n",
    "\n",
    "is often intractable, but we don’t need it for many sampling methods.\n",
    "\n",
    "---\n",
    "\n",
    "## Likelihood\n",
    "\n",
    "$$\n",
    "\\mathcal{L}(\\theta) = p(D \\mid \\theta)\n",
    "$$\n",
    "\n",
    "For independent data points \\(d_i\\):\n",
    "\n",
    "$$\n",
    "\\mathcal{L}(\\theta)\n",
    "= \\prod_{i=1}^N p(d_i \\mid \\theta)\n",
    "\\quad\\Longrightarrow\\quad\n",
    "\\ln \\mathcal{L}(\\theta)\n",
    "= \\sum_{i=1}^N \\ln p(d_i \\mid \\theta).\n",
    "$$\n",
    "\n",
    "---\n",
    "\n",
    "## Why Use the Log–Likelihood?\n",
    "\n",
    "1. **Products → Sums**  \n",
    "   Summing log-terms is more stable than multiplying small probabilities.\n",
    "\n",
    "2. **Numerical Stability**  \n",
    "   \\(\\ln \\mathcal{L}\\) avoids underflow with large datasets.\n",
    "\n",
    "3. **Easy Derivatives**  \n",
    "   Gradients of sums of logs are straightforward for optimization or MCMC.\n",
    "\n",
    "---\n",
    "\n",
    "## Putting It All Together\n",
    "\n",
    "We sample from the unnormalized log-posterior:\n",
    "\n",
    "$$\n",
    "\\ln p(\\theta \\mid D)\n",
    "= \\ln \\mathcal{L}(\\theta) + \\ln p(\\theta) + \\text{constant}.\n",
    "$$\n",
    "\n",
    "MCMC methods draw samples by evaluating \\(\\ln \\mathcal{L}(\\theta)\\) and \\(\\ln p(\\theta)\\) many times, exploring regions where that sum is largest.\n"
   ]
  },
  {
   "cell_type": "markdown",
   "id": "ecbc8d06",
   "metadata": {},
   "source": []
  }
 ],
 "metadata": {
  "kernelspec": {
   "display_name": ".venv",
   "language": "python",
   "name": "python3"
  },
  "language_info": {
   "name": "python",
   "version": "3.12.2"
  }
 },
 "nbformat": 4,
 "nbformat_minor": 5
}
